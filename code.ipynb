 # import libraries
import pandas as pd
import numpy as np
import matplotlib.pyplot as plt
import seaborn as sns
import statsmodels.api as sm
import codecademylib3

# Read in the data
codecademy = pd.read_csv('codecademy.csv')

# Print the first five rows
print(codecademy.head())

# Create a scatter plot of score vs completed
plt.scatter(codecademy.completed, codecademy.score)
plt.xlabel('completed')
plt.ylabel('score')
plt.show()
plt.clf()

# Fit a linear regression to predict score based on prior lessons completed
model = sm.OLS.from_formula('score ~ completed', codecademy)
results = model.fit()
print(results.params)

# Intercept interpretation:
# A learner who completed 0 items is expected to score 13.2 on the quizzes
# Slope interpretation:
# For every additional 1 completed item, learners are expected to score 1.3 points on the quizzes.

# Plot the scatter plot with the regression line on top
plt.scatter(codecademy.completed, codecademy.score)
plt.plot(codecademy.completed, results.params[0] + results.params[1] * codecademy.completed, color='red')
plt.xlabel('completed')
plt.ylabel('score')
plt.show()
plt.clf()

# Predict score for learner who has completed 20 prior lessons
newdata = {'completed': [20]}
pred20 = results.predict(newdata)
print('Predicted score for learner who has completed 20 prior lessons: ', pred20)

# Calculate fitted values
fitted_values = results.predict(codecademy)

# Calculate residuals
residuals = codecademy.score - fitted_values

# Check normality assumption
plt.hist(residuals, bins=30)
plt.xlabel('Residuals')
plt.ylabel('Frequency')
plt.show()
plt.clf()

# Check homoscedasticity assumption
plt.scatter(fitted_values, residuals)
plt.xlabel('Fitted Values')
plt.ylabel('Residuals')
plt.show()
plt.clf()

# Create a boxplot of score vs lesson
sns.boxplot(data=codecademy, x='lesson', y='score')
plt.xlabel('Lesson')
plt.ylabel('Score')
plt.show()
plt.clf()

# Fit a linear regression to predict score based on which lesson they took
model = sm.OLS.from_formula('score ~ lesson', codecademy)
results = model.fit()
print(results.params)

# Calculate and print the group means and mean difference (for comparison)
mean_score_lessonA = np.mean(codecademy.score[codecademy.lesson == 'Lesson A'])
mean_score_lessonB = np.mean(codecademy.score[codecademy.lesson == 'Lesson B'])
print('Mean score (A): ', mean_score_lessonA)
print('Mean score (B): ', mean_score_lessonB)
print('Mean score difference: ', mean_score_lessonA - mean_score_lessonB)

# Use `sns.lmplot()` to plot `score` vs. `completed` colored by `lesson`
sns.lmplot(x='completed', y='score', hue='lesson', data=codecademy)
plt.xlabel('completed')
plt.ylabel('score')
plt.show()
